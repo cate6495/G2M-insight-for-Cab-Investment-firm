{
 "cells": [
  {
   "cell_type": "code",
   "execution_count": 1,
   "id": "5186dec7",
   "metadata": {},
   "outputs": [],
   "source": [
    "#importing the libraries\n",
    "import pandas as pd\n",
    "import numpy as np\n",
    "import matplotlib.pyplot as plt\n",
    "import seaborn as sns\n",
    "import datetime\n",
    "%matplotlib inline"
   ]
  },
  {
   "cell_type": "code",
   "execution_count": 2,
   "id": "d3303b21",
   "metadata": {},
   "outputs": [],
   "source": [
    "#loading the data\n",
    "cabdata=pd.read_csv('Cab_Data - Copy.csv')\n",
    "citydata=pd.read_csv('City.csv')\n",
    "customerdata=pd.read_csv('Customer_ID.csv')\n",
    "transactiondata=pd.read_csv('Transaction_ID.csv')"
   ]
  },
  {
   "cell_type": "code",
   "execution_count": 3,
   "id": "2c274bd5",
   "metadata": {},
   "outputs": [
    {
     "data": {
      "text/html": [
       "<div>\n",
       "<style scoped>\n",
       "    .dataframe tbody tr th:only-of-type {\n",
       "        vertical-align: middle;\n",
       "    }\n",
       "\n",
       "    .dataframe tbody tr th {\n",
       "        vertical-align: top;\n",
       "    }\n",
       "\n",
       "    .dataframe thead th {\n",
       "        text-align: right;\n",
       "    }\n",
       "</style>\n",
       "<table border=\"1\" class=\"dataframe\">\n",
       "  <thead>\n",
       "    <tr style=\"text-align: right;\">\n",
       "      <th></th>\n",
       "      <th>Transaction ID</th>\n",
       "      <th>Date of Travel</th>\n",
       "      <th>Company</th>\n",
       "      <th>City</th>\n",
       "      <th>KM Travelled</th>\n",
       "      <th>Price Charged</th>\n",
       "      <th>Cost of Trip</th>\n",
       "    </tr>\n",
       "  </thead>\n",
       "  <tbody>\n",
       "    <tr>\n",
       "      <th>0</th>\n",
       "      <td>10000011</td>\n",
       "      <td>1/8/2016</td>\n",
       "      <td>Pink Cab</td>\n",
       "      <td>ATLANTA GA</td>\n",
       "      <td>30.45</td>\n",
       "      <td>370.95</td>\n",
       "      <td>313.635</td>\n",
       "    </tr>\n",
       "    <tr>\n",
       "      <th>1</th>\n",
       "      <td>10000012</td>\n",
       "      <td>1/6/2016</td>\n",
       "      <td>Pink Cab</td>\n",
       "      <td>ATLANTA GA</td>\n",
       "      <td>28.62</td>\n",
       "      <td>358.52</td>\n",
       "      <td>334.854</td>\n",
       "    </tr>\n",
       "    <tr>\n",
       "      <th>2</th>\n",
       "      <td>10000013</td>\n",
       "      <td>1/2/2016</td>\n",
       "      <td>Pink Cab</td>\n",
       "      <td>ATLANTA GA</td>\n",
       "      <td>9.04</td>\n",
       "      <td>125.20</td>\n",
       "      <td>97.632</td>\n",
       "    </tr>\n",
       "    <tr>\n",
       "      <th>3</th>\n",
       "      <td>10000014</td>\n",
       "      <td>1/7/2016</td>\n",
       "      <td>Pink Cab</td>\n",
       "      <td>ATLANTA GA</td>\n",
       "      <td>33.17</td>\n",
       "      <td>377.40</td>\n",
       "      <td>351.602</td>\n",
       "    </tr>\n",
       "    <tr>\n",
       "      <th>4</th>\n",
       "      <td>10000015</td>\n",
       "      <td>1/3/2016</td>\n",
       "      <td>Pink Cab</td>\n",
       "      <td>ATLANTA GA</td>\n",
       "      <td>8.73</td>\n",
       "      <td>114.62</td>\n",
       "      <td>97.776</td>\n",
       "    </tr>\n",
       "  </tbody>\n",
       "</table>\n",
       "</div>"
      ],
      "text/plain": [
       "   Transaction ID Date of Travel   Company        City  KM Travelled  \\\n",
       "0        10000011       1/8/2016  Pink Cab  ATLANTA GA         30.45   \n",
       "1        10000012       1/6/2016  Pink Cab  ATLANTA GA         28.62   \n",
       "2        10000013       1/2/2016  Pink Cab  ATLANTA GA          9.04   \n",
       "3        10000014       1/7/2016  Pink Cab  ATLANTA GA         33.17   \n",
       "4        10000015       1/3/2016  Pink Cab  ATLANTA GA          8.73   \n",
       "\n",
       "   Price Charged  Cost of Trip  \n",
       "0         370.95       313.635  \n",
       "1         358.52       334.854  \n",
       "2         125.20        97.632  \n",
       "3         377.40       351.602  \n",
       "4         114.62        97.776  "
      ]
     },
     "execution_count": 3,
     "metadata": {},
     "output_type": "execute_result"
    }
   ],
   "source": [
    "# checking the first 5 rows of cabdata\n",
    "cabdata.head(5)"
   ]
  },
  {
   "cell_type": "code",
   "execution_count": 4,
   "id": "272c85f2",
   "metadata": {},
   "outputs": [
    {
     "data": {
      "text/html": [
       "<div>\n",
       "<style scoped>\n",
       "    .dataframe tbody tr th:only-of-type {\n",
       "        vertical-align: middle;\n",
       "    }\n",
       "\n",
       "    .dataframe tbody tr th {\n",
       "        vertical-align: top;\n",
       "    }\n",
       "\n",
       "    .dataframe thead th {\n",
       "        text-align: right;\n",
       "    }\n",
       "</style>\n",
       "<table border=\"1\" class=\"dataframe\">\n",
       "  <thead>\n",
       "    <tr style=\"text-align: right;\">\n",
       "      <th></th>\n",
       "      <th>City</th>\n",
       "      <th>Population</th>\n",
       "      <th>Users</th>\n",
       "    </tr>\n",
       "  </thead>\n",
       "  <tbody>\n",
       "    <tr>\n",
       "      <th>0</th>\n",
       "      <td>NEW YORK NY</td>\n",
       "      <td>8,405,837</td>\n",
       "      <td>302,149</td>\n",
       "    </tr>\n",
       "    <tr>\n",
       "      <th>1</th>\n",
       "      <td>CHICAGO IL</td>\n",
       "      <td>1,955,130</td>\n",
       "      <td>164,468</td>\n",
       "    </tr>\n",
       "    <tr>\n",
       "      <th>2</th>\n",
       "      <td>LOS ANGELES CA</td>\n",
       "      <td>1,595,037</td>\n",
       "      <td>144,132</td>\n",
       "    </tr>\n",
       "    <tr>\n",
       "      <th>3</th>\n",
       "      <td>MIAMI FL</td>\n",
       "      <td>1,339,155</td>\n",
       "      <td>17,675</td>\n",
       "    </tr>\n",
       "    <tr>\n",
       "      <th>4</th>\n",
       "      <td>SILICON VALLEY</td>\n",
       "      <td>1,177,609</td>\n",
       "      <td>27,247</td>\n",
       "    </tr>\n",
       "  </tbody>\n",
       "</table>\n",
       "</div>"
      ],
      "text/plain": [
       "             City   Population      Users\n",
       "0     NEW YORK NY   8,405,837    302,149 \n",
       "1      CHICAGO IL   1,955,130    164,468 \n",
       "2  LOS ANGELES CA   1,595,037    144,132 \n",
       "3        MIAMI FL   1,339,155     17,675 \n",
       "4  SILICON VALLEY   1,177,609     27,247 "
      ]
     },
     "execution_count": 4,
     "metadata": {},
     "output_type": "execute_result"
    }
   ],
   "source": [
    "citydata.head(5)"
   ]
  },
  {
   "cell_type": "code",
   "execution_count": 5,
   "id": "1f88b5db",
   "metadata": {},
   "outputs": [
    {
     "data": {
      "text/html": [
       "<div>\n",
       "<style scoped>\n",
       "    .dataframe tbody tr th:only-of-type {\n",
       "        vertical-align: middle;\n",
       "    }\n",
       "\n",
       "    .dataframe tbody tr th {\n",
       "        vertical-align: top;\n",
       "    }\n",
       "\n",
       "    .dataframe thead th {\n",
       "        text-align: right;\n",
       "    }\n",
       "</style>\n",
       "<table border=\"1\" class=\"dataframe\">\n",
       "  <thead>\n",
       "    <tr style=\"text-align: right;\">\n",
       "      <th></th>\n",
       "      <th>Customer ID</th>\n",
       "      <th>Gender</th>\n",
       "      <th>Age</th>\n",
       "      <th>Income (USD/Month)</th>\n",
       "    </tr>\n",
       "  </thead>\n",
       "  <tbody>\n",
       "    <tr>\n",
       "      <th>0</th>\n",
       "      <td>29290</td>\n",
       "      <td>Male</td>\n",
       "      <td>28</td>\n",
       "      <td>10813</td>\n",
       "    </tr>\n",
       "    <tr>\n",
       "      <th>1</th>\n",
       "      <td>27703</td>\n",
       "      <td>Male</td>\n",
       "      <td>27</td>\n",
       "      <td>9237</td>\n",
       "    </tr>\n",
       "    <tr>\n",
       "      <th>2</th>\n",
       "      <td>28712</td>\n",
       "      <td>Male</td>\n",
       "      <td>53</td>\n",
       "      <td>11242</td>\n",
       "    </tr>\n",
       "    <tr>\n",
       "      <th>3</th>\n",
       "      <td>28020</td>\n",
       "      <td>Male</td>\n",
       "      <td>23</td>\n",
       "      <td>23327</td>\n",
       "    </tr>\n",
       "    <tr>\n",
       "      <th>4</th>\n",
       "      <td>27182</td>\n",
       "      <td>Male</td>\n",
       "      <td>33</td>\n",
       "      <td>8536</td>\n",
       "    </tr>\n",
       "  </tbody>\n",
       "</table>\n",
       "</div>"
      ],
      "text/plain": [
       "   Customer ID Gender  Age  Income (USD/Month)\n",
       "0        29290   Male   28               10813\n",
       "1        27703   Male   27                9237\n",
       "2        28712   Male   53               11242\n",
       "3        28020   Male   23               23327\n",
       "4        27182   Male   33                8536"
      ]
     },
     "execution_count": 5,
     "metadata": {},
     "output_type": "execute_result"
    }
   ],
   "source": [
    "customerdata.head(5)"
   ]
  },
  {
   "cell_type": "code",
   "execution_count": 6,
   "id": "363373b3",
   "metadata": {},
   "outputs": [
    {
     "data": {
      "text/html": [
       "<div>\n",
       "<style scoped>\n",
       "    .dataframe tbody tr th:only-of-type {\n",
       "        vertical-align: middle;\n",
       "    }\n",
       "\n",
       "    .dataframe tbody tr th {\n",
       "        vertical-align: top;\n",
       "    }\n",
       "\n",
       "    .dataframe thead th {\n",
       "        text-align: right;\n",
       "    }\n",
       "</style>\n",
       "<table border=\"1\" class=\"dataframe\">\n",
       "  <thead>\n",
       "    <tr style=\"text-align: right;\">\n",
       "      <th></th>\n",
       "      <th>Transaction ID</th>\n",
       "      <th>Customer ID</th>\n",
       "      <th>Payment_Mode</th>\n",
       "    </tr>\n",
       "  </thead>\n",
       "  <tbody>\n",
       "    <tr>\n",
       "      <th>0</th>\n",
       "      <td>10000011</td>\n",
       "      <td>29290</td>\n",
       "      <td>Card</td>\n",
       "    </tr>\n",
       "    <tr>\n",
       "      <th>1</th>\n",
       "      <td>10000012</td>\n",
       "      <td>27703</td>\n",
       "      <td>Card</td>\n",
       "    </tr>\n",
       "    <tr>\n",
       "      <th>2</th>\n",
       "      <td>10000013</td>\n",
       "      <td>28712</td>\n",
       "      <td>Cash</td>\n",
       "    </tr>\n",
       "    <tr>\n",
       "      <th>3</th>\n",
       "      <td>10000014</td>\n",
       "      <td>28020</td>\n",
       "      <td>Cash</td>\n",
       "    </tr>\n",
       "    <tr>\n",
       "      <th>4</th>\n",
       "      <td>10000015</td>\n",
       "      <td>27182</td>\n",
       "      <td>Card</td>\n",
       "    </tr>\n",
       "  </tbody>\n",
       "</table>\n",
       "</div>"
      ],
      "text/plain": [
       "   Transaction ID  Customer ID Payment_Mode\n",
       "0        10000011        29290         Card\n",
       "1        10000012        27703         Card\n",
       "2        10000013        28712         Cash\n",
       "3        10000014        28020         Cash\n",
       "4        10000015        27182         Card"
      ]
     },
     "execution_count": 6,
     "metadata": {},
     "output_type": "execute_result"
    }
   ],
   "source": [
    "transactiondata.head(5)"
   ]
  },
  {
   "cell_type": "code",
   "execution_count": 7,
   "id": "63245191",
   "metadata": {},
   "outputs": [],
   "source": [
    "#merging the files into one\n",
    "customertransactiondataset=pd.merge(customerdata, transactiondata,on='Customer ID')\n",
    "customertransactioncabdata=pd.merge(customertransactiondataset, cabdata, on='Transaction ID')\n",
    "df=pd.merge(customertransactioncabdata, citydata, on='City')"
   ]
  },
  {
   "cell_type": "code",
   "execution_count": 8,
   "id": "39519a3f",
   "metadata": {},
   "outputs": [
    {
     "data": {
      "text/html": [
       "<div>\n",
       "<style scoped>\n",
       "    .dataframe tbody tr th:only-of-type {\n",
       "        vertical-align: middle;\n",
       "    }\n",
       "\n",
       "    .dataframe tbody tr th {\n",
       "        vertical-align: top;\n",
       "    }\n",
       "\n",
       "    .dataframe thead th {\n",
       "        text-align: right;\n",
       "    }\n",
       "</style>\n",
       "<table border=\"1\" class=\"dataframe\">\n",
       "  <thead>\n",
       "    <tr style=\"text-align: right;\">\n",
       "      <th></th>\n",
       "      <th>Customer ID</th>\n",
       "      <th>Gender</th>\n",
       "      <th>Age</th>\n",
       "      <th>Income (USD/Month)</th>\n",
       "      <th>Transaction ID</th>\n",
       "      <th>Payment_Mode</th>\n",
       "      <th>Date of Travel</th>\n",
       "      <th>Company</th>\n",
       "      <th>City</th>\n",
       "      <th>KM Travelled</th>\n",
       "      <th>Price Charged</th>\n",
       "      <th>Cost of Trip</th>\n",
       "      <th>Population</th>\n",
       "      <th>Users</th>\n",
       "    </tr>\n",
       "  </thead>\n",
       "  <tbody>\n",
       "    <tr>\n",
       "      <th>0</th>\n",
       "      <td>29290</td>\n",
       "      <td>Male</td>\n",
       "      <td>28</td>\n",
       "      <td>10813</td>\n",
       "      <td>10000011</td>\n",
       "      <td>Card</td>\n",
       "      <td>1/8/2016</td>\n",
       "      <td>Pink Cab</td>\n",
       "      <td>ATLANTA GA</td>\n",
       "      <td>30.45</td>\n",
       "      <td>370.95</td>\n",
       "      <td>313.6350</td>\n",
       "      <td>814,885</td>\n",
       "      <td>24,701</td>\n",
       "    </tr>\n",
       "    <tr>\n",
       "      <th>1</th>\n",
       "      <td>29290</td>\n",
       "      <td>Male</td>\n",
       "      <td>28</td>\n",
       "      <td>10813</td>\n",
       "      <td>10351127</td>\n",
       "      <td>Cash</td>\n",
       "      <td>7/21/2018</td>\n",
       "      <td>Yellow Cab</td>\n",
       "      <td>ATLANTA GA</td>\n",
       "      <td>26.19</td>\n",
       "      <td>598.70</td>\n",
       "      <td>317.4228</td>\n",
       "      <td>814,885</td>\n",
       "      <td>24,701</td>\n",
       "    </tr>\n",
       "    <tr>\n",
       "      <th>2</th>\n",
       "      <td>29290</td>\n",
       "      <td>Male</td>\n",
       "      <td>28</td>\n",
       "      <td>10813</td>\n",
       "      <td>10412921</td>\n",
       "      <td>Card</td>\n",
       "      <td>11/23/2018</td>\n",
       "      <td>Yellow Cab</td>\n",
       "      <td>ATLANTA GA</td>\n",
       "      <td>42.55</td>\n",
       "      <td>792.05</td>\n",
       "      <td>597.4020</td>\n",
       "      <td>814,885</td>\n",
       "      <td>24,701</td>\n",
       "    </tr>\n",
       "    <tr>\n",
       "      <th>3</th>\n",
       "      <td>27703</td>\n",
       "      <td>Male</td>\n",
       "      <td>27</td>\n",
       "      <td>9237</td>\n",
       "      <td>10000012</td>\n",
       "      <td>Card</td>\n",
       "      <td>1/6/2016</td>\n",
       "      <td>Pink Cab</td>\n",
       "      <td>ATLANTA GA</td>\n",
       "      <td>28.62</td>\n",
       "      <td>358.52</td>\n",
       "      <td>334.8540</td>\n",
       "      <td>814,885</td>\n",
       "      <td>24,701</td>\n",
       "    </tr>\n",
       "    <tr>\n",
       "      <th>4</th>\n",
       "      <td>27703</td>\n",
       "      <td>Male</td>\n",
       "      <td>27</td>\n",
       "      <td>9237</td>\n",
       "      <td>10320494</td>\n",
       "      <td>Card</td>\n",
       "      <td>4/21/2018</td>\n",
       "      <td>Yellow Cab</td>\n",
       "      <td>ATLANTA GA</td>\n",
       "      <td>36.38</td>\n",
       "      <td>721.10</td>\n",
       "      <td>467.1192</td>\n",
       "      <td>814,885</td>\n",
       "      <td>24,701</td>\n",
       "    </tr>\n",
       "  </tbody>\n",
       "</table>\n",
       "</div>"
      ],
      "text/plain": [
       "   Customer ID Gender  Age  Income (USD/Month)  Transaction ID Payment_Mode  \\\n",
       "0        29290   Male   28               10813        10000011         Card   \n",
       "1        29290   Male   28               10813        10351127         Cash   \n",
       "2        29290   Male   28               10813        10412921         Card   \n",
       "3        27703   Male   27                9237        10000012         Card   \n",
       "4        27703   Male   27                9237        10320494         Card   \n",
       "\n",
       "  Date of Travel     Company        City  KM Travelled  Price Charged  \\\n",
       "0       1/8/2016    Pink Cab  ATLANTA GA         30.45         370.95   \n",
       "1      7/21/2018  Yellow Cab  ATLANTA GA         26.19         598.70   \n",
       "2     11/23/2018  Yellow Cab  ATLANTA GA         42.55         792.05   \n",
       "3       1/6/2016    Pink Cab  ATLANTA GA         28.62         358.52   \n",
       "4      4/21/2018  Yellow Cab  ATLANTA GA         36.38         721.10   \n",
       "\n",
       "   Cost of Trip Population     Users  \n",
       "0      313.6350   814,885    24,701   \n",
       "1      317.4228   814,885    24,701   \n",
       "2      597.4020   814,885    24,701   \n",
       "3      334.8540   814,885    24,701   \n",
       "4      467.1192   814,885    24,701   "
      ]
     },
     "execution_count": 8,
     "metadata": {},
     "output_type": "execute_result"
    }
   ],
   "source": [
    "df.head(5)"
   ]
  },
  {
   "cell_type": "code",
   "execution_count": 9,
   "id": "141a009d",
   "metadata": {},
   "outputs": [
    {
     "name": "stdout",
     "output_type": "stream",
     "text": [
      "<class 'pandas.core.frame.DataFrame'>\n",
      "Int64Index: 359392 entries, 0 to 359391\n",
      "Data columns (total 14 columns):\n",
      " #   Column              Non-Null Count   Dtype  \n",
      "---  ------              --------------   -----  \n",
      " 0   Customer ID         359392 non-null  int64  \n",
      " 1   Gender              359392 non-null  object \n",
      " 2   Age                 359392 non-null  int64  \n",
      " 3   Income (USD/Month)  359392 non-null  int64  \n",
      " 4   Transaction ID      359392 non-null  int64  \n",
      " 5   Payment_Mode        359392 non-null  object \n",
      " 6   Date of Travel      359392 non-null  object \n",
      " 7   Company             359392 non-null  object \n",
      " 8   City                359392 non-null  object \n",
      " 9   KM Travelled        359392 non-null  float64\n",
      " 10  Price Charged       359392 non-null  float64\n",
      " 11  Cost of Trip        359392 non-null  float64\n",
      " 12  Population          359392 non-null  object \n",
      " 13  Users               359392 non-null  object \n",
      "dtypes: float64(3), int64(4), object(7)\n",
      "memory usage: 41.1+ MB\n"
     ]
    }
   ],
   "source": [
    "#Summary of the dataframe\n",
    "df.info()"
   ]
  },
  {
   "cell_type": "code",
   "execution_count": 10,
   "id": "3b185839",
   "metadata": {},
   "outputs": [],
   "source": [
    "# Renaming columns\n",
    "df.rename(columns={'Transaction ID': 'Transactionid', 'Customer ID': 'Customerid'}, inplace=True)"
   ]
  },
  {
   "cell_type": "code",
   "execution_count": 11,
   "id": "593dd01f",
   "metadata": {},
   "outputs": [],
   "source": [
    "# Renaming columns\n",
    "df.rename(columns={'Income (USD/Month)': 'Income', 'Price Charged': 'Price'}, inplace=True)"
   ]
  },
  {
   "cell_type": "code",
   "execution_count": 12,
   "id": "294c4a3e",
   "metadata": {},
   "outputs": [],
   "source": [
    "# Renaming columns\n",
    "df.rename(columns={'KM Travelled': 'Kmtravelled', 'Cost of Trip': 'Cost'}, inplace=True)"
   ]
  },
  {
   "cell_type": "code",
   "execution_count": 13,
   "id": "6a7bdc71",
   "metadata": {},
   "outputs": [
    {
     "name": "stdout",
     "output_type": "stream",
     "text": [
      "<class 'pandas.core.frame.DataFrame'>\n",
      "Int64Index: 359392 entries, 0 to 359391\n",
      "Data columns (total 14 columns):\n",
      " #   Column          Non-Null Count   Dtype  \n",
      "---  ------          --------------   -----  \n",
      " 0   Customerid      359392 non-null  int64  \n",
      " 1   Gender          359392 non-null  object \n",
      " 2   Age             359392 non-null  int64  \n",
      " 3   Income          359392 non-null  int64  \n",
      " 4   Transactionid   359392 non-null  int64  \n",
      " 5   Payment_Mode    359392 non-null  object \n",
      " 6   Date of Travel  359392 non-null  object \n",
      " 7   Company         359392 non-null  object \n",
      " 8   City            359392 non-null  object \n",
      " 9   Kmtravelled     359392 non-null  float64\n",
      " 10  Price           359392 non-null  float64\n",
      " 11  Cost            359392 non-null  float64\n",
      " 12  Population      359392 non-null  object \n",
      " 13  Users           359392 non-null  object \n",
      "dtypes: float64(3), int64(4), object(7)\n",
      "memory usage: 41.1+ MB\n"
     ]
    }
   ],
   "source": [
    "df.info()"
   ]
  },
  {
   "cell_type": "code",
   "execution_count": 14,
   "id": "e166e415",
   "metadata": {},
   "outputs": [
    {
     "data": {
      "text/plain": [
       "(359392, 14)"
      ]
     },
     "execution_count": 14,
     "metadata": {},
     "output_type": "execute_result"
    }
   ],
   "source": [
    "# checking the number of rows and columns\n",
    "df.shape"
   ]
  },
  {
   "cell_type": "code",
   "execution_count": 15,
   "id": "f26ba395",
   "metadata": {},
   "outputs": [],
   "source": [
    "# converting the date of travel from object to datetime\n",
    "df['Date of Travel']=pd.to_datetime(df['Date of Travel'])"
   ]
  },
  {
   "cell_type": "code",
   "execution_count": 16,
   "id": "26df27ba",
   "metadata": {},
   "outputs": [],
   "source": [
    "#separating date of travel to month and year\n",
    "months=[]\n",
    "years=[]\n",
    "for i in range(len(df['Date of Travel'])):\n",
    "    months.append(df['Date of Travel'][i].month)\n",
    "    years.append(df['Date of Travel'][i].year)\n",
    "df['Month']=months\n",
    "df['Year']=years"
   ]
  },
  {
   "cell_type": "code",
   "execution_count": 17,
   "id": "e4d86e97",
   "metadata": {},
   "outputs": [],
   "source": [
    "#dropping the column date of travel\n",
    "df.drop('Date of Travel',axis=1,inplace=True)"
   ]
  },
  {
   "cell_type": "code",
   "execution_count": 18,
   "id": "d14f3a53",
   "metadata": {},
   "outputs": [
    {
     "data": {
      "text/html": [
       "<div>\n",
       "<style scoped>\n",
       "    .dataframe tbody tr th:only-of-type {\n",
       "        vertical-align: middle;\n",
       "    }\n",
       "\n",
       "    .dataframe tbody tr th {\n",
       "        vertical-align: top;\n",
       "    }\n",
       "\n",
       "    .dataframe thead th {\n",
       "        text-align: right;\n",
       "    }\n",
       "</style>\n",
       "<table border=\"1\" class=\"dataframe\">\n",
       "  <thead>\n",
       "    <tr style=\"text-align: right;\">\n",
       "      <th></th>\n",
       "      <th>Customerid</th>\n",
       "      <th>Gender</th>\n",
       "      <th>Age</th>\n",
       "      <th>Income</th>\n",
       "      <th>Transactionid</th>\n",
       "      <th>Payment_Mode</th>\n",
       "      <th>Company</th>\n",
       "      <th>City</th>\n",
       "      <th>Kmtravelled</th>\n",
       "      <th>Price</th>\n",
       "      <th>Cost</th>\n",
       "      <th>Population</th>\n",
       "      <th>Users</th>\n",
       "      <th>Month</th>\n",
       "      <th>Year</th>\n",
       "    </tr>\n",
       "  </thead>\n",
       "  <tbody>\n",
       "    <tr>\n",
       "      <th>0</th>\n",
       "      <td>29290</td>\n",
       "      <td>Male</td>\n",
       "      <td>28</td>\n",
       "      <td>10813</td>\n",
       "      <td>10000011</td>\n",
       "      <td>Card</td>\n",
       "      <td>Pink Cab</td>\n",
       "      <td>ATLANTA GA</td>\n",
       "      <td>30.45</td>\n",
       "      <td>370.95</td>\n",
       "      <td>313.6350</td>\n",
       "      <td>814,885</td>\n",
       "      <td>24,701</td>\n",
       "      <td>1</td>\n",
       "      <td>2016</td>\n",
       "    </tr>\n",
       "    <tr>\n",
       "      <th>1</th>\n",
       "      <td>29290</td>\n",
       "      <td>Male</td>\n",
       "      <td>28</td>\n",
       "      <td>10813</td>\n",
       "      <td>10351127</td>\n",
       "      <td>Cash</td>\n",
       "      <td>Yellow Cab</td>\n",
       "      <td>ATLANTA GA</td>\n",
       "      <td>26.19</td>\n",
       "      <td>598.70</td>\n",
       "      <td>317.4228</td>\n",
       "      <td>814,885</td>\n",
       "      <td>24,701</td>\n",
       "      <td>7</td>\n",
       "      <td>2018</td>\n",
       "    </tr>\n",
       "    <tr>\n",
       "      <th>2</th>\n",
       "      <td>29290</td>\n",
       "      <td>Male</td>\n",
       "      <td>28</td>\n",
       "      <td>10813</td>\n",
       "      <td>10412921</td>\n",
       "      <td>Card</td>\n",
       "      <td>Yellow Cab</td>\n",
       "      <td>ATLANTA GA</td>\n",
       "      <td>42.55</td>\n",
       "      <td>792.05</td>\n",
       "      <td>597.4020</td>\n",
       "      <td>814,885</td>\n",
       "      <td>24,701</td>\n",
       "      <td>11</td>\n",
       "      <td>2018</td>\n",
       "    </tr>\n",
       "    <tr>\n",
       "      <th>3</th>\n",
       "      <td>27703</td>\n",
       "      <td>Male</td>\n",
       "      <td>27</td>\n",
       "      <td>9237</td>\n",
       "      <td>10000012</td>\n",
       "      <td>Card</td>\n",
       "      <td>Pink Cab</td>\n",
       "      <td>ATLANTA GA</td>\n",
       "      <td>28.62</td>\n",
       "      <td>358.52</td>\n",
       "      <td>334.8540</td>\n",
       "      <td>814,885</td>\n",
       "      <td>24,701</td>\n",
       "      <td>1</td>\n",
       "      <td>2016</td>\n",
       "    </tr>\n",
       "    <tr>\n",
       "      <th>4</th>\n",
       "      <td>27703</td>\n",
       "      <td>Male</td>\n",
       "      <td>27</td>\n",
       "      <td>9237</td>\n",
       "      <td>10320494</td>\n",
       "      <td>Card</td>\n",
       "      <td>Yellow Cab</td>\n",
       "      <td>ATLANTA GA</td>\n",
       "      <td>36.38</td>\n",
       "      <td>721.10</td>\n",
       "      <td>467.1192</td>\n",
       "      <td>814,885</td>\n",
       "      <td>24,701</td>\n",
       "      <td>4</td>\n",
       "      <td>2018</td>\n",
       "    </tr>\n",
       "  </tbody>\n",
       "</table>\n",
       "</div>"
      ],
      "text/plain": [
       "   Customerid Gender  Age  Income  Transactionid Payment_Mode     Company  \\\n",
       "0       29290   Male   28   10813       10000011         Card    Pink Cab   \n",
       "1       29290   Male   28   10813       10351127         Cash  Yellow Cab   \n",
       "2       29290   Male   28   10813       10412921         Card  Yellow Cab   \n",
       "3       27703   Male   27    9237       10000012         Card    Pink Cab   \n",
       "4       27703   Male   27    9237       10320494         Card  Yellow Cab   \n",
       "\n",
       "         City  Kmtravelled   Price      Cost Population     Users  Month  Year  \n",
       "0  ATLANTA GA        30.45  370.95  313.6350   814,885    24,701       1  2016  \n",
       "1  ATLANTA GA        26.19  598.70  317.4228   814,885    24,701       7  2018  \n",
       "2  ATLANTA GA        42.55  792.05  597.4020   814,885    24,701      11  2018  \n",
       "3  ATLANTA GA        28.62  358.52  334.8540   814,885    24,701       1  2016  \n",
       "4  ATLANTA GA        36.38  721.10  467.1192   814,885    24,701       4  2018  "
      ]
     },
     "execution_count": 18,
     "metadata": {},
     "output_type": "execute_result"
    }
   ],
   "source": [
    "df.head(5)"
   ]
  },
  {
   "cell_type": "code",
   "execution_count": 19,
   "id": "7d770b34",
   "metadata": {},
   "outputs": [
    {
     "data": {
      "text/plain": [
       "0"
      ]
     },
     "execution_count": 19,
     "metadata": {},
     "output_type": "execute_result"
    }
   ],
   "source": [
    "#checking  duplicate values \n",
    "df.duplicated().sum()"
   ]
  },
  {
   "cell_type": "code",
   "execution_count": 20,
   "id": "f54094e1",
   "metadata": {},
   "outputs": [
    {
     "data": {
      "text/plain": [
       "Customerid       0\n",
       "Gender           0\n",
       "Age              0\n",
       "Income           0\n",
       "Transactionid    0\n",
       "Payment_Mode     0\n",
       "Company          0\n",
       "City             0\n",
       "Kmtravelled      0\n",
       "Price            0\n",
       "Cost             0\n",
       "Population       0\n",
       "Users            0\n",
       "Month            0\n",
       "Year             0\n",
       "dtype: int64"
      ]
     },
     "execution_count": 20,
     "metadata": {},
     "output_type": "execute_result"
    }
   ],
   "source": [
    "#checks for null values\n",
    "df.isnull().sum()"
   ]
  },
  {
   "cell_type": "code",
   "execution_count": 21,
   "id": "40f747af",
   "metadata": {},
   "outputs": [
    {
     "data": {
      "text/html": [
       "<div>\n",
       "<style scoped>\n",
       "    .dataframe tbody tr th:only-of-type {\n",
       "        vertical-align: middle;\n",
       "    }\n",
       "\n",
       "    .dataframe tbody tr th {\n",
       "        vertical-align: top;\n",
       "    }\n",
       "\n",
       "    .dataframe thead th {\n",
       "        text-align: right;\n",
       "    }\n",
       "</style>\n",
       "<table border=\"1\" class=\"dataframe\">\n",
       "  <thead>\n",
       "    <tr style=\"text-align: right;\">\n",
       "      <th></th>\n",
       "      <th>Customerid</th>\n",
       "      <th>Age</th>\n",
       "      <th>Income</th>\n",
       "      <th>Transactionid</th>\n",
       "      <th>Kmtravelled</th>\n",
       "      <th>Price</th>\n",
       "      <th>Cost</th>\n",
       "      <th>Month</th>\n",
       "      <th>Year</th>\n",
       "    </tr>\n",
       "  </thead>\n",
       "  <tbody>\n",
       "    <tr>\n",
       "      <th>count</th>\n",
       "      <td>359392.000000</td>\n",
       "      <td>359392.000000</td>\n",
       "      <td>359392.000000</td>\n",
       "      <td>3.593920e+05</td>\n",
       "      <td>359392.000000</td>\n",
       "      <td>359392.000000</td>\n",
       "      <td>359392.000000</td>\n",
       "      <td>359392.000000</td>\n",
       "      <td>359392.000000</td>\n",
       "    </tr>\n",
       "    <tr>\n",
       "      <th>mean</th>\n",
       "      <td>19191.652115</td>\n",
       "      <td>35.336705</td>\n",
       "      <td>15048.822937</td>\n",
       "      <td>1.022076e+07</td>\n",
       "      <td>22.567254</td>\n",
       "      <td>423.443311</td>\n",
       "      <td>286.190113</td>\n",
       "      <td>7.500434</td>\n",
       "      <td>2017.045199</td>\n",
       "    </tr>\n",
       "    <tr>\n",
       "      <th>std</th>\n",
       "      <td>21012.412463</td>\n",
       "      <td>12.594234</td>\n",
       "      <td>7969.409482</td>\n",
       "      <td>1.268058e+05</td>\n",
       "      <td>12.233526</td>\n",
       "      <td>274.378911</td>\n",
       "      <td>157.993661</td>\n",
       "      <td>3.445095</td>\n",
       "      <td>0.800239</td>\n",
       "    </tr>\n",
       "    <tr>\n",
       "      <th>min</th>\n",
       "      <td>1.000000</td>\n",
       "      <td>18.000000</td>\n",
       "      <td>2000.000000</td>\n",
       "      <td>1.000001e+07</td>\n",
       "      <td>1.900000</td>\n",
       "      <td>15.600000</td>\n",
       "      <td>19.000000</td>\n",
       "      <td>1.000000</td>\n",
       "      <td>2016.000000</td>\n",
       "    </tr>\n",
       "    <tr>\n",
       "      <th>25%</th>\n",
       "      <td>2705.000000</td>\n",
       "      <td>25.000000</td>\n",
       "      <td>8424.000000</td>\n",
       "      <td>1.011081e+07</td>\n",
       "      <td>12.000000</td>\n",
       "      <td>206.437500</td>\n",
       "      <td>151.200000</td>\n",
       "      <td>5.000000</td>\n",
       "      <td>2016.000000</td>\n",
       "    </tr>\n",
       "    <tr>\n",
       "      <th>50%</th>\n",
       "      <td>7459.000000</td>\n",
       "      <td>33.000000</td>\n",
       "      <td>14685.000000</td>\n",
       "      <td>1.022104e+07</td>\n",
       "      <td>22.440000</td>\n",
       "      <td>386.360000</td>\n",
       "      <td>282.480000</td>\n",
       "      <td>8.000000</td>\n",
       "      <td>2017.000000</td>\n",
       "    </tr>\n",
       "    <tr>\n",
       "      <th>75%</th>\n",
       "      <td>36078.000000</td>\n",
       "      <td>42.000000</td>\n",
       "      <td>21035.000000</td>\n",
       "      <td>1.033094e+07</td>\n",
       "      <td>32.960000</td>\n",
       "      <td>583.660000</td>\n",
       "      <td>413.683200</td>\n",
       "      <td>10.000000</td>\n",
       "      <td>2018.000000</td>\n",
       "    </tr>\n",
       "    <tr>\n",
       "      <th>max</th>\n",
       "      <td>60000.000000</td>\n",
       "      <td>65.000000</td>\n",
       "      <td>35000.000000</td>\n",
       "      <td>1.044011e+07</td>\n",
       "      <td>48.000000</td>\n",
       "      <td>2048.030000</td>\n",
       "      <td>691.200000</td>\n",
       "      <td>12.000000</td>\n",
       "      <td>2018.000000</td>\n",
       "    </tr>\n",
       "  </tbody>\n",
       "</table>\n",
       "</div>"
      ],
      "text/plain": [
       "          Customerid            Age         Income  Transactionid  \\\n",
       "count  359392.000000  359392.000000  359392.000000   3.593920e+05   \n",
       "mean    19191.652115      35.336705   15048.822937   1.022076e+07   \n",
       "std     21012.412463      12.594234    7969.409482   1.268058e+05   \n",
       "min         1.000000      18.000000    2000.000000   1.000001e+07   \n",
       "25%      2705.000000      25.000000    8424.000000   1.011081e+07   \n",
       "50%      7459.000000      33.000000   14685.000000   1.022104e+07   \n",
       "75%     36078.000000      42.000000   21035.000000   1.033094e+07   \n",
       "max     60000.000000      65.000000   35000.000000   1.044011e+07   \n",
       "\n",
       "         Kmtravelled          Price           Cost          Month  \\\n",
       "count  359392.000000  359392.000000  359392.000000  359392.000000   \n",
       "mean       22.567254     423.443311     286.190113       7.500434   \n",
       "std        12.233526     274.378911     157.993661       3.445095   \n",
       "min         1.900000      15.600000      19.000000       1.000000   \n",
       "25%        12.000000     206.437500     151.200000       5.000000   \n",
       "50%        22.440000     386.360000     282.480000       8.000000   \n",
       "75%        32.960000     583.660000     413.683200      10.000000   \n",
       "max        48.000000    2048.030000     691.200000      12.000000   \n",
       "\n",
       "                Year  \n",
       "count  359392.000000  \n",
       "mean     2017.045199  \n",
       "std         0.800239  \n",
       "min      2016.000000  \n",
       "25%      2016.000000  \n",
       "50%      2017.000000  \n",
       "75%      2018.000000  \n",
       "max      2018.000000  "
      ]
     },
     "execution_count": 21,
     "metadata": {},
     "output_type": "execute_result"
    }
   ],
   "source": [
    "#checking the basic statistical details\n",
    "df.describe()"
   ]
  },
  {
   "cell_type": "code",
   "execution_count": 22,
   "id": "557530e3",
   "metadata": {},
   "outputs": [
    {
     "data": {
      "text/plain": [
       "0.999    1529.79706\n",
       "Name: Price, dtype: float64"
      ]
     },
     "execution_count": 22,
     "metadata": {},
     "output_type": "execute_result"
    }
   ],
   "source": [
    "#checking for outliers\n",
    "max_threshold = df['Price'].quantile([0.999])\n",
    "max_threshold"
   ]
  },
  {
   "cell_type": "code",
   "execution_count": 23,
   "id": "604e4b86",
   "metadata": {},
   "outputs": [],
   "source": [
    "#adding a new column of margin\n",
    "df['Margin']=df['Price']-df['Cost']"
   ]
  },
  {
   "cell_type": "code",
   "execution_count": 24,
   "id": "602e4cc8",
   "metadata": {
    "scrolled": true
   },
   "outputs": [
    {
     "data": {
      "image/png": "[encoded data removed]",
      "text/plain": [
       "<Figure size 720x432 with 2 Axes>"
      ]
     },
     "metadata": {
      "needs_background": "light"
     },
     "output_type": "display_data"
    }
   ],
   "source": [
    "# checking the correlation in order  to identify multicollinearity, an absolute value of 0.5 shows high correlation\n",
    "plt.subplots(figsize=(10,6))\n",
    "sns.heatmap(df.corr(), cmap='PuBu', annot=True)\n",
    "plt.show()"
   ]
  },
  {
   "cell_type": "code",
   "execution_count": 25,
   "id": "2fccdd3b",
   "metadata": {},
   "outputs": [
    {
     "data": {
      "image/png": "[encoded data removed]",
      "text/plain": [
       "<Figure size 720x432 with 1 Axes>"
      ]
     },
     "metadata": {
      "needs_background": "light"
     },
     "output_type": "display_data"
    }
   ],
   "source": [
    "# analysis of price and cost in pink cab\n",
    "plot1=df[df.Company=='Pink Cab'].groupby('Year'). Transactionid.count()\n",
    "plot2=df[df.Company=='Pink Cab'].groupby('Year').Price.mean()\n",
    "plot3=df[df.Company=='Pink Cab'].groupby('Year').Cost.mean()\n",
    "plt.figure(figsize=(10,6))\n",
    "ax =plt.subplot(111)\n",
    "ax.bar(plot1.index-0.2, plot3.values, width=0.4, color='Teal', align='center',label='Cost of Trip')\n",
    "ax.bar(plot1.index+0.2, plot2.values, width=0.4, color='Cornflowerblue', align='center',label='Price')\n",
    "plt.ylabel('Price ,Cost')\n",
    "plt.xlabel('Year')\n",
    "plt.title('PinkCab Price Cost Analysis',fontsize=18)\n",
    "plt.legend()\n",
    "plt.show()"
   ]
  },
  {
   "cell_type": "code",
   "execution_count": 26,
   "id": "f992ca21",
   "metadata": {},
   "outputs": [
    {
     "data": {
      "image/png": "[encoded data removed]",
      "text/plain": [
       "<Figure size 720x432 with 1 Axes>"
      ]
     },
     "metadata": {
      "needs_background": "light"
     },
     "output_type": "display_data"
    }
   ],
   "source": [
    "plot1=df[df.Company=='Yellow Cab'].groupby('Year'). Transactionid.count()\n",
    "plot2=df[df.Company=='Yellow Cab'].groupby('Year').Price.mean()\n",
    "plot3=df[df.Company=='Yellow Cab'].groupby('Year').Cost.mean()\n",
    "plt.figure(figsize=(10,6))\n",
    "ax =plt.subplot(111)\n",
    "ax.bar(plot1.index-0.2, plot3.values, width=0.4, color='Teal', align='center',label='Cost of Trip')\n",
    "ax.bar(plot1.index+0.2, plot2.values, width=0.4, color='Cornflowerblue', align='center',label='Price')\n",
    "plt.ylabel('Price ,Cost')\n",
    "plt.xlabel('Year')\n",
    "plt.title('YellowCab Price Cost Analysis',fontsize=18)\n",
    "plt.legend()\n",
    "plt.show()"
   ]
  },
  {
   "cell_type": "code",
   "execution_count": 27,
   "id": "fbaa1434",
   "metadata": {},
   "outputs": [
    {
     "data": {
      "text/plain": [
       "City\n",
       "ATLANTA GA         95.844236\n",
       "AUSTIN TX          90.535487\n",
       "BOSTON MA          61.158200\n",
       "CHICAGO IL         49.166594\n",
       "DALLAS TX         107.653009\n",
       "DENVER CO         111.229893\n",
       "LOS ANGELES CA     78.671170\n",
       "MIAMI FL           98.341176\n",
       "NASHVILLE TN       78.562585\n",
       "NEW YORK NY       256.663241\n",
       "ORANGE COUNTY      71.696141\n",
       "PHOENIX AZ         72.779471\n",
       "PITTSBURGH PA      50.946547\n",
       "SACRAMENTO CA      23.995713\n",
       "SAN DIEGO CA       67.587428\n",
       "SEATTLE WA         75.043692\n",
       "SILICON VALLEY    161.907324\n",
       "TUCSON AZ          83.594826\n",
       "WASHINGTON DC      60.778328\n",
       "Name: Margin, dtype: float64"
      ]
     },
     "execution_count": 27,
     "metadata": {},
     "output_type": "execute_result"
    }
   ],
   "source": [
    "citymargin = df[df.Month==12].groupby('City').Margin.mean()\n",
    "citymargin"
   ]
  },
  {
   "cell_type": "code",
   "execution_count": 28,
   "id": "82d834d9",
   "metadata": {},
   "outputs": [
    {
     "data": {
      "text/plain": [
       "Margin\n",
       "-220.060     1\n",
       "-198.698     1\n",
       "-168.985     1\n",
       "-164.040     1\n",
       "-160.536     1\n",
       "            ..\n",
       " 971.170     1\n",
       " 982.590     1\n",
       " 1039.080    1\n",
       " 1056.110    1\n",
       " 1119.480    1\n",
       "Name: Transactionid, Length: 70332, dtype: int64"
      ]
     },
     "execution_count": 28,
     "metadata": {},
     "output_type": "execute_result"
    }
   ],
   "source": [
    "cabpinkmargin = df[df.Company=='Pink Cab'].groupby('Margin').Transactionid.count()\n",
    "cabpinkmargin"
   ]
  },
  {
   "cell_type": "code",
   "execution_count": 29,
   "id": "0be01e98",
   "metadata": {},
   "outputs": [
    {
     "data": {
      "text/plain": [
       "Margin\n",
       "-176.9308     1\n",
       "-160.7140     1\n",
       "-145.9468     1\n",
       "-144.7664     1\n",
       "-144.4464     1\n",
       "             ..\n",
       " 1408.3440    1\n",
       " 1424.1408    1\n",
       " 1433.3420    1\n",
       " 1445.2720    1\n",
       " 1463.9660    1\n",
       "Name: Transactionid, Length: 250255, dtype: int64"
      ]
     },
     "execution_count": 29,
     "metadata": {},
     "output_type": "execute_result"
    }
   ],
   "source": [
    "cabyellowmargin = df[df.Company=='Yellow Cab'].groupby('Margin').Transactionid.count()\n",
    "cabyellowmargin"
   ]
  },
  {
   "cell_type": "code",
   "execution_count": 30,
   "id": "7fab8b31",
   "metadata": {},
   "outputs": [
    {
     "data": {
      "text/plain": [
       "Year\n",
       "2016    25080\n",
       "2017    30321\n",
       "2018    29310\n",
       "Name: Transactionid, dtype: int64"
      ]
     },
     "execution_count": 30,
     "metadata": {},
     "output_type": "execute_result"
    }
   ],
   "source": [
    "cabpink = df[df.Company=='Pink Cab'].groupby('Year').Transactionid.count()\n",
    "cabpink"
   ]
  },
  {
   "cell_type": "code",
   "execution_count": 31,
   "id": "b7514132",
   "metadata": {},
   "outputs": [
    {
     "data": {
      "text/plain": [
       "Year\n",
       "2016    82239\n",
       "2017    98189\n",
       "2018    94253\n",
       "Name: Transactionid, dtype: int64"
      ]
     },
     "execution_count": 31,
     "metadata": {},
     "output_type": "execute_result"
    }
   ],
   "source": [
    "cabyellow = df[df.Company=='Yellow Cab'].groupby('Year').Transactionid.count()\n",
    "cabyellow"
   ]
  },
  {
   "cell_type": "code",
   "execution_count": 32,
   "id": "95056ad7",
   "metadata": {},
   "outputs": [
    {
     "data": {
      "image/png": "[encoded data removed]",
      "text/plain": [
       "<Figure size 720x432 with 1 Axes>"
      ]
     },
     "metadata": {
      "needs_background": "light"
     },
     "output_type": "display_data"
    }
   ],
   "source": [
    "plt.figure(figsize=(10,6))\n",
    "ax = plt.subplot(111)\n",
    "ax.bar(cabpink.index-0.2, cabpink.values, width=0.4, color='Teal', align='center',label='Pink Cab')\n",
    "ax.bar(cabyellow.index+0.2, cabyellow.values, width=0.4, color='Cornflowerblue', align='center',label='Yellow Cab')\n",
    "plt.ylabel('Transactions Yearly')\n",
    "plt.xlabel('Year')\n",
    "plt.title('Tally of Transactions Yearly',fontsize=18)\n",
    "plt.legend()\n",
    "plt.show()"
   ]
  },
  {
   "cell_type": "code",
   "execution_count": 33,
   "id": "a9e0c803",
   "metadata": {},
   "outputs": [
    {
     "data": {
      "text/plain": [
       "Month\n",
       "1      5057\n",
       "2      3375\n",
       "3      4223\n",
       "4      4083\n",
       "5      4960\n",
       "6      5877\n",
       "7      6590\n",
       "8      7739\n",
       "9      9658\n",
       "10    10576\n",
       "11    11005\n",
       "12    11568\n",
       "Name: Transactionid, dtype: int64"
      ]
     },
     "execution_count": 33,
     "metadata": {},
     "output_type": "execute_result"
    }
   ],
   "source": [
    "cabpink = df[df.Company=='Pink Cab'].groupby('Month').Transactionid.count()\n",
    "cabpink"
   ]
  },
  {
   "cell_type": "code",
   "execution_count": 34,
   "id": "62b152be",
   "metadata": {},
   "outputs": [
    {
     "data": {
      "text/plain": [
       "Month\n",
       "1     18117\n",
       "2     14932\n",
       "3     17423\n",
       "4     17351\n",
       "5     18741\n",
       "6     18836\n",
       "7     21086\n",
       "8     23584\n",
       "9     27201\n",
       "10    30276\n",
       "11    31695\n",
       "12    35439\n",
       "Name: Transactionid, dtype: int64"
      ]
     },
     "execution_count": 34,
     "metadata": {},
     "output_type": "execute_result"
    }
   ],
   "source": [
    "cabyellow = df[df.Company=='Yellow Cab'].groupby('Month').Transactionid.count()\n",
    "cabyellow"
   ]
  },
  {
   "cell_type": "code",
   "execution_count": 35,
   "id": "9835ad9a",
   "metadata": {},
   "outputs": [
    {
     "data": {
      "image/png": "[encoded data removed]",
      "text/plain": [
       "<Figure size 720x432 with 1 Axes>"
      ]
     },
     "metadata": {
      "needs_background": "light"
     },
     "output_type": "display_data"
    }
   ],
   "source": [
    "plt.figure(figsize=(10,6))\n",
    "ax = plt.subplot(111)\n",
    "ax.bar(cabpink.index-0.2, cabpink.values, width=0.4, color='Teal', align='center',label='Pink Cab')\n",
    "ax.bar(cabyellow.index+0.2, cabyellow.values, width=0.4, color='Cornflowerblue', align='center',label='Yellow Cab')\n",
    "plt.ylabel('Transactions Yearly Month Wise')\n",
    "plt.xlabel('Month')\n",
    "plt.title('Tally of Transactions Yearly Month Wise',fontsize=18)\n",
    "plt.legend()\n",
    "plt.show()\n",
    "#transactions are highest in december most probably due to alot of festivities so more use of cab services"
   ]
  },
  {
   "cell_type": "code",
   "execution_count": 36,
   "id": "4936a370",
   "metadata": {},
   "outputs": [
    {
     "data": {
      "text/plain": [
       "Age\n",
       "18    1450\n",
       "19    1475\n",
       "20    1535\n",
       "21    1476\n",
       "22    1499\n",
       "23    1515\n",
       "24    1442\n",
       "25    1504\n",
       "26    1485\n",
       "27    1489\n",
       "28    1500\n",
       "29    1408\n",
       "30    1457\n",
       "31    1441\n",
       "32    1492\n",
       "33    1407\n",
       "34    1548\n",
       "35    1404\n",
       "36    1433\n",
       "37    1475\n",
       "38    1417\n",
       "39    1524\n",
       "40    1456\n",
       "41     491\n",
       "42     493\n",
       "43     498\n",
       "44     458\n",
       "45     524\n",
       "46     508\n",
       "47     503\n",
       "48     502\n",
       "49     502\n",
       "50     509\n",
       "51     496\n",
       "52     497\n",
       "53     479\n",
       "54     479\n",
       "55     468\n",
       "56     490\n",
       "57     462\n",
       "58     502\n",
       "59     517\n",
       "60     473\n",
       "61     550\n",
       "62     462\n",
       "63     481\n",
       "64     505\n",
       "65     467\n",
       "Name: Customerid, dtype: int64"
      ]
     },
     "execution_count": 36,
     "metadata": {},
     "output_type": "execute_result"
    }
   ],
   "source": [
    "#customer age group analysis\n",
    "customerage= df.groupby('Age').Customerid.nunique()\n",
    "customerage"
   ]
  },
  {
   "cell_type": "code",
   "execution_count": 37,
   "id": "570d4d2e",
   "metadata": {},
   "outputs": [
    {
     "data": {
      "image/png": "[encoded data removed]",
      "text/plain": [
       "<Figure size 720x432 with 1 Axes>"
      ]
     },
     "metadata": {
      "needs_background": "light"
     },
     "output_type": "display_data"
    }
   ],
   "source": [
    "plt.figure(figsize=(10,6))\n",
    "sns.barplot(x=customerage.index, y=customerage.values, palette='Blues')\n",
    "plt.title('Customer  Age')\n",
    "plt.show()             "
   ]
  },
  {
   "cell_type": "code",
   "execution_count": 38,
   "id": "d71405c4",
   "metadata": {},
   "outputs": [
    {
     "data": {
      "text/plain": [
       "Age  Gender  Company   \n",
       "18   Female  Pink Cab      485\n",
       "             Yellow Cab    598\n",
       "     Male    Pink Cab      543\n",
       "             Yellow Cab    658\n",
       "19   Female  Pink Cab      483\n",
       "                          ... \n",
       "64   Male    Yellow Cab    223\n",
       "65   Female  Pink Cab      161\n",
       "             Yellow Cab    186\n",
       "     Male    Pink Cab      171\n",
       "             Yellow Cab    205\n",
       "Name: Customerid, Length: 192, dtype: int64"
      ]
     },
     "execution_count": 38,
     "metadata": {},
     "output_type": "execute_result"
    }
   ],
   "source": [
    "df.groupby(['Age','Gender','Company']).Customerid.nunique()"
   ]
  },
  {
   "cell_type": "code",
   "execution_count": 39,
   "id": "f6fc41cc",
   "metadata": {},
   "outputs": [],
   "source": [
    "companycustomerage = df.groupby(['Company','Age']).Customerid.agg(['nunique'])\n",
    "companycustomerage = companycustomerage.reset_index()"
   ]
  },
  {
   "cell_type": "code",
   "execution_count": 40,
   "id": "55c5cb2f",
   "metadata": {},
   "outputs": [
    {
     "data": {
      "image/png": "[encoded data removed]",
      "text/plain": [
       "<Figure size 432x288 with 1 Axes>"
      ]
     },
     "metadata": {},
     "output_type": "display_data"
    }
   ],
   "source": [
    "labels = 'Age less than 35','Age greater than 35' \n",
    "pct2 = [companycustomerage[(companycustomerage.Age<=35) & (companycustomerage.Company=='Pink Cab')]['nunique'].sum(),companycustomerage[(companycustomerage.Age>35) & (companycustomerage.Company=='Pink Cab')]['nunique'].sum() ]\n",
    "explode2 = (0.15,0)\n",
    "fig2, ax2 = plt.subplots()\n",
    "ax2.pie(pct2 ,labels=labels, autopct='%1.1f%%',\n",
    "shadow=True, startangle=90)\n",
    "ax2.axis('equal')\n",
    "plt.title('Pink Cab Customer Age')\n",
    "plt.show()"
   ]
  },
  {
   "cell_type": "code",
   "execution_count": 41,
   "id": "645f4054",
   "metadata": {},
   "outputs": [
    {
     "data": {
      "image/png": "[encoded data removed]",
      "text/plain": [
       "<Figure size 432x288 with 1 Axes>"
      ]
     },
     "metadata": {},
     "output_type": "display_data"
    }
   ],
   "source": [
    "labels = 'Age less than 35','Age greater than 35' \n",
    "pct2 = [companycustomerage[(companycustomerage.Age<=35) & (companycustomerage.Company=='Yellow Cab')]['nunique'].sum(),companycustomerage[(companycustomerage.Age>35) & (companycustomerage.Company=='Yellow Cab')]['nunique'].sum()]\n",
    "explode2 = (0.15,0)\n",
    "fig2, ax2 = plt.subplots()\n",
    "ax2.pie(pct2 ,labels=labels, autopct='%1.1f%%',\n",
    "shadow=True, startangle=90)\n",
    "ax2.axis('equal')\n",
    "plt.title('Yellow Cab Customer Age')\n",
    "plt.show()"
   ]
  },
  {
   "cell_type": "code",
   "execution_count": 42,
   "id": "d11fde0a",
   "metadata": {},
   "outputs": [
    {
     "data": {
      "text/plain": [
       "Company\n",
       "Pink Cab       84711\n",
       "Yellow Cab    274681\n",
       "Name: Transactionid, dtype: int64"
      ]
     },
     "execution_count": 42,
     "metadata": {},
     "output_type": "execute_result"
    }
   ],
   "source": [
    "df.groupby(['Company']).Transactionid.count()"
   ]
  },
  {
   "cell_type": "code",
   "execution_count": 43,
   "id": "110e5796",
   "metadata": {},
   "outputs": [
    {
     "data": {
      "image/png": "[encoded data removed]",
      "text/plain": [
       "<Figure size 432x288 with 1 Axes>"
      ]
     },
     "metadata": {},
     "output_type": "display_data"
    }
   ],
   "source": [
    "labels = 'Yellow Cab','Pink Cab' \n",
    "pct2016 = [df[(df.Year==2016) & (df.Company=='Yellow Cab')]['Customerid'].count(),df[(df.Year==2016) & (df.Company=='Pink Cab')]['Customerid'].count()]\n",
    "fig7, ax5 = plt.subplots()\n",
    "ax5.pie(pct2016 , labels=labels, autopct='%1.1f%%',shadow=True, startangle=90)\n",
    "ax5.axis('equal')\n",
    "\n",
    "plt.title('Customers share in 2016')\n",
    "plt.show()"
   ]
  },
  {
   "cell_type": "code",
   "execution_count": 44,
   "id": "e6cfcad7",
   "metadata": {},
   "outputs": [
    {
     "data": {
      "image/png": "[encoded data removed]",
      "text/plain": [
       "<Figure size 432x288 with 1 Axes>"
      ]
     },
     "metadata": {},
     "output_type": "display_data"
    }
   ],
   "source": [
    "labels = 'Yellow Cab','Pink Cab' \n",
    "pct2017 = [df[(df.Year==2017) & (df.Company=='Yellow Cab')]['Customerid'].count(),df[(df.Year==2017) & (df.Company=='Pink Cab')]['Customerid'].count()]\n",
    "fig7, ax7 = plt.subplots()\n",
    "ax7.pie(pct2017 , labels=labels, autopct='%1.1f%%',shadow=True, startangle=90)\n",
    "ax7.axis('equal')\n",
    "\n",
    "plt.title('Customers share in 2017')\n",
    "plt.show()"
   ]
  },
  {
   "cell_type": "code",
   "execution_count": 45,
   "id": "64a43762",
   "metadata": {},
   "outputs": [
    {
     "data": {
      "image/png": "[encoded data removed]",
      "text/plain": [
       "<Figure size 432x288 with 1 Axes>"
      ]
     },
     "metadata": {},
     "output_type": "display_data"
    }
   ],
   "source": [
    "labels = 'Yellow Cab','Pink Cab' \n",
    "pct2018 = [df[(df.Year==2018) & (df.Company=='Yellow Cab')]['Customerid'].count(),df[(df.Year==2018) & (df.Company=='Pink Cab')]['Customerid'].count()]\n",
    "fig8, ax8 = plt.subplots()\n",
    "ax8.pie(pct2018 , labels=labels, autopct='%1.1f%%',shadow=True, startangle=90)\n",
    "ax8.axis('equal')\n",
    "\n",
    "plt.title('Customers share in 2018')\n",
    "plt.show()"
   ]
  },
  {
   "cell_type": "code",
   "execution_count": 46,
   "id": "e9fc59b0",
   "metadata": {},
   "outputs": [
    {
     "data": {
      "image/png": "[encoded data removed]",
      "text/plain": [
       "<Figure size 720x432 with 1 Axes>"
      ]
     },
     "metadata": {
      "needs_background": "light"
     },
     "output_type": "display_data"
    }
   ],
   "source": [
    "monthlytravel = df.groupby(['Month']).Transactionid.count()\n",
    "plt.figure(figsize=(10,6))\n",
    "sns.barplot(x=monthlytravel.index,y=monthlytravel.values, palette='Blues')\n",
    "plt.xlabel('Month')\n",
    "plt.ylabel('Number of Travel')\n",
    "plt.title('Travel per month')\n",
    "plt.show()"
   ]
  },
  {
   "cell_type": "code",
   "execution_count": 47,
   "id": "39d3e4eb",
   "metadata": {},
   "outputs": [
    {
     "data": {
      "image/png": "[encoded data removed]",
      "text/plain": [
       "<Figure size 720x432 with 1 Axes>"
      ]
     },
     "metadata": {
      "needs_background": "light"
     },
     "output_type": "display_data"
    }
   ],
   "source": [
    "yeartravel = df.groupby(['Year']).Transactionid.count()\n",
    "plt.figure(figsize=(10,6))\n",
    "sns.barplot(x=yeartravel.index,y=yeartravel.values, palette='Blues')\n",
    "plt.title('Travel per Year')\n",
    "plt.show()"
   ]
  },
  {
   "cell_type": "code",
   "execution_count": 48,
   "id": "78f8240c",
   "metadata": {},
   "outputs": [
    {
     "data": {
      "text/plain": [
       "City\n",
       "ATLANTA GA         1762\n",
       "AUSTIN TX          1868\n",
       "BOSTON MA          5186\n",
       "CHICAGO IL         9361\n",
       "DALLAS TX          1380\n",
       "DENVER CO          1394\n",
       "LOS ANGELES CA    19865\n",
       "MIAMI FL           2002\n",
       "NASHVILLE TN       1841\n",
       "NEW YORK NY       13967\n",
       "ORANGE COUNTY      1513\n",
       "PHOENIX AZ          864\n",
       "PITTSBURGH PA       682\n",
       "SACRAMENTO CA      1334\n",
       "SAN DIEGO CA      10672\n",
       "SEATTLE WA         2732\n",
       "SILICON VALLEY     3797\n",
       "TUCSON AZ           799\n",
       "WASHINGTON DC      3692\n",
       "Name: Transactionid, dtype: int64"
      ]
     },
     "execution_count": 48,
     "metadata": {},
     "output_type": "execute_result"
    }
   ],
   "source": [
    "cabpinkcities = df[df.Company=='Pink Cab'].groupby('City').Transactionid.count()\n",
    "cabpinkcities"
   ]
  },
  {
   "cell_type": "code",
   "execution_count": 49,
   "id": "36b7a8ba",
   "metadata": {},
   "outputs": [
    {
     "data": {
      "text/plain": [
       "City\n",
       "ATLANTA GA         5795\n",
       "AUSTIN TX          3028\n",
       "BOSTON MA         24506\n",
       "CHICAGO IL        47264\n",
       "DALLAS TX          5637\n",
       "DENVER CO          2431\n",
       "LOS ANGELES CA    28168\n",
       "MIAMI FL           4452\n",
       "NASHVILLE TN       1169\n",
       "NEW YORK NY       85918\n",
       "ORANGE COUNTY      2469\n",
       "PHOENIX AZ         1200\n",
       "PITTSBURGH PA       631\n",
       "SACRAMENTO CA      1033\n",
       "SAN DIEGO CA       9816\n",
       "SEATTLE WA         5265\n",
       "SILICON VALLEY     4722\n",
       "TUCSON AZ          1132\n",
       "WASHINGTON DC     40045\n",
       "Name: Transactionid, dtype: int64"
      ]
     },
     "execution_count": 49,
     "metadata": {},
     "output_type": "execute_result"
    }
   ],
   "source": [
    "yellowcabcities = df[df.Company=='Yellow Cab'].groupby('City').Transactionid.count()\n",
    "yellowcabcities"
   ]
  },
  {
   "cell_type": "code",
   "execution_count": 50,
   "id": "e6bc35fe",
   "metadata": {},
   "outputs": [
    {
     "data": {
      "image/png": "[encoded data removed]",
      "text/plain": [
       "<Figure size 1080x360 with 1 Axes>"
      ]
     },
     "metadata": {
      "needs_background": "light"
     },
     "output_type": "display_data"
    }
   ],
   "source": [
    "datase=df.groupby('City')['Users'].count().sort_values(ascending=False).plot.bar(figsize=(15,5),color='Cornflowerblue')\n",
    "plt.ylabel('Number of Users')\n",
    "plt.xlabel('Cities')\n",
    "plt.title('Numbers of Users City Wise')\n",
    "plt.show()\n",
    "#new york provides the largest market "
   ]
  },
  {
   "cell_type": "code",
   "execution_count": 51,
   "id": "febecef6",
   "metadata": {},
   "outputs": [
    {
     "data": {
      "text/plain": [
       "Company     Payment_Mode\n",
       "Pink Cab    Card             50719\n",
       "            Cash             33992\n",
       "Yellow Cab  Card            164785\n",
       "            Cash            109896\n",
       "Name: Transactionid, dtype: int64"
      ]
     },
     "execution_count": 51,
     "metadata": {},
     "output_type": "execute_result"
    }
   ],
   "source": [
    "df.groupby(['Company','Payment_Mode']).Transactionid.count()\n",
    "#yellow cab had more transactions regardless the mode of payment"
   ]
  },
  {
   "cell_type": "code",
   "execution_count": 52,
   "id": "6ac52278",
   "metadata": {},
   "outputs": [
    {
     "data": {
      "image/png": "[encoded data removed]",
      "text/plain": [
       "<Figure size 432x288 with 1 Axes>"
      ]
     },
     "metadata": {},
     "output_type": "display_data"
    }
   ],
   "source": [
    "labels = ['Cash', 'Card']\n",
    "sizes = [(215504),(143888)]\n",
    "fig, ax = plt.subplots()\n",
    "ax.pie(sizes, labels=labels, autopct='%1.1f%%')\n",
    "ax.axis('equal')  \n",
    "ax.set_title('Mode of Payment')\n",
    "plt.show()"
   ]
  },
  {
   "cell_type": "code",
   "execution_count": 53,
   "id": "ea9e9bb3",
   "metadata": {},
   "outputs": [
    {
     "data": {
      "text/html": [
       "<div>\n",
       "<style scoped>\n",
       "    .dataframe tbody tr th:only-of-type {\n",
       "        vertical-align: middle;\n",
       "    }\n",
       "\n",
       "    .dataframe tbody tr th {\n",
       "        vertical-align: top;\n",
       "    }\n",
       "\n",
       "    .dataframe thead th {\n",
       "        text-align: right;\n",
       "    }\n",
       "</style>\n",
       "<table border=\"1\" class=\"dataframe\">\n",
       "  <thead>\n",
       "    <tr style=\"text-align: right;\">\n",
       "      <th></th>\n",
       "      <th></th>\n",
       "      <th>mean</th>\n",
       "    </tr>\n",
       "    <tr>\n",
       "      <th>Company</th>\n",
       "      <th>Gender</th>\n",
       "      <th></th>\n",
       "    </tr>\n",
       "  </thead>\n",
       "  <tbody>\n",
       "    <tr>\n",
       "      <th rowspan=\"2\" valign=\"top\">Pink Cab</th>\n",
       "      <th>Female</th>\n",
       "      <td>310.624823</td>\n",
       "    </tr>\n",
       "    <tr>\n",
       "      <th>Male</th>\n",
       "      <td>310.940547</td>\n",
       "    </tr>\n",
       "    <tr>\n",
       "      <th rowspan=\"2\" valign=\"top\">Yellow Cab</th>\n",
       "      <th>Female</th>\n",
       "      <td>454.571538</td>\n",
       "    </tr>\n",
       "    <tr>\n",
       "      <th>Male</th>\n",
       "      <td>460.821326</td>\n",
       "    </tr>\n",
       "  </tbody>\n",
       "</table>\n",
       "</div>"
      ],
      "text/plain": [
       "                         mean\n",
       "Company    Gender            \n",
       "Pink Cab   Female  310.624823\n",
       "           Male    310.940547\n",
       "Yellow Cab Female  454.571538\n",
       "           Male    460.821326"
      ]
     },
     "execution_count": 53,
     "metadata": {},
     "output_type": "execute_result"
    }
   ],
   "source": [
    "df.groupby(['Company','Gender']).Price.agg(['mean'])\n",
    "#yellow cab had a higher mean of both male and female customers  which translates to high number of customers"
   ]
  },
  {
   "cell_type": "code",
   "execution_count": 54,
   "id": "de1e418a",
   "metadata": {},
   "outputs": [
    {
     "data": {
      "text/plain": [
       "Year\n",
       "2016    22.582095\n",
       "2017    22.571804\n",
       "2018    22.549632\n",
       "Name: Kmtravelled, dtype: float64"
      ]
     },
     "execution_count": 54,
     "metadata": {},
     "output_type": "execute_result"
    }
   ],
   "source": [
    "df.groupby('Year').Kmtravelled.mean()"
   ]
  },
  {
   "cell_type": "code",
   "execution_count": 55,
   "id": "c6d0f6f2",
   "metadata": {},
   "outputs": [
    {
     "name": "stdout",
     "output_type": "stream",
     "text": [
      "We accept null hypothesis that theres no difference\n",
      "P value is  0.29330606382987284\n"
     ]
    }
   ],
   "source": [
    "#is there a difference in margin depending on the mode of payment , Yellow Cabs\n",
    "from scipy import stats\n",
    "a = df[(df.Payment_Mode=='Cash')&(df.Company=='Yellow Cab')].groupby('Transactionid').Margin.mean()\n",
    "b = df[(df.Payment_Mode=='Card')&(df.Company=='Yellow Cab')].groupby('Transactionid').Margin.mean()\n",
    "_, p_value = stats.ttest_ind(a.values,b=b.values,equal_var=True)\n",
    "if(p_value<0.05):\n",
    "    print('We accept alternate hypothesis that theres a difference')\n",
    "else:\n",
    "    print('We accept null hypothesis that theres no difference')\n",
    "    \n",
    "print('P value is ', p_value)"
   ]
  },
  {
   "cell_type": "code",
   "execution_count": 56,
   "id": "c6bd4fd1",
   "metadata": {},
   "outputs": [
    {
     "name": "stdout",
     "output_type": "stream",
     "text": [
      "We accept null hypothesis that theres no difference\n",
      "P value is  0.7900465828793288\n"
     ]
    }
   ],
   "source": [
    "#is there a difference in margin depending on the mode of payment,Pink Cabs\n",
    "a = df[(df.Payment_Mode=='Cash')&(df.Company=='Pink Cab')].groupby('Transactionid').Margin.mean()\n",
    "b = df[(df.Payment_Mode=='Card')&(df.Company=='Pink Cab')].groupby('Transactionid').Margin.mean()\n",
    "\n",
    "\n",
    "_, p_value = stats.ttest_ind(a.values,b=b.values,equal_var=True)\n",
    "if(p_value<0.05):\n",
    "    print('We accept alternate hypothesis that theres a difference')\n",
    "else:\n",
    "    print('We accept null hypothesis that theres no difference')\n",
    "    \n",
    "print('P value is ', p_value)"
   ]
  },
  {
   "cell_type": "code",
   "execution_count": 57,
   "id": "8cfaaca4",
   "metadata": {},
   "outputs": [
    {
     "name": "stdout",
     "output_type": "stream",
     "text": [
      "We accept alternate hypothesis that theres a difference\n",
      "P value is  6.060473042494144e-25\n"
     ]
    }
   ],
   "source": [
    "# Does Gender affect company margin,yellow cabs\n",
    "a = df[(df.Gender=='Female')&(df.Company=='Yellow Cab')].groupby('Transactionid').Margin.mean()\n",
    "b = df[(df.Gender=='Male')&(df.Company=='Yellow Cab')].groupby('Transactionid').Margin.mean()\n",
    "\n",
    "\n",
    "_, p_value = stats.ttest_ind(a.values,b=b.values,equal_var=True)\n",
    "if(p_value<0.05):\n",
    "    print('We accept alternate hypothesis that theres a difference')\n",
    "else:\n",
    "    print('We accept null hypothesis that theres no difference')\n",
    "    \n",
    "print('P value is ', p_value)"
   ]
  },
  {
   "cell_type": "code",
   "execution_count": 58,
   "id": "083fcb61",
   "metadata": {},
   "outputs": [
    {
     "name": "stdout",
     "output_type": "stream",
     "text": [
      "We accept null hypothesis that theres no effect\n",
      "P value is  0.115153059004258\n"
     ]
    }
   ],
   "source": [
    "#Does gender affect company profit, pink cab\n",
    "a = df[(df.Gender=='Female')&(df.Company=='Pink Cab')].groupby('Transactionid').Margin.mean()\n",
    "b = df[(df.Gender=='Male')&(df.Company=='Pink Cab')].groupby('Transactionid').Margin.mean()\n",
    "\n",
    "\n",
    "_, p_value = stats.ttest_ind(a.values,b=b.values,equal_var=True)\n",
    "if(p_value<0.05):\n",
    "    print('We accept alternate hypothesis that theres an effect')\n",
    "else:\n",
    "    print('We accept null hypothesis that theres no effect')\n",
    "    \n",
    "print('P value is ', p_value)"
   ]
  },
  {
   "cell_type": "code",
   "execution_count": 59,
   "id": "89ed92b6",
   "metadata": {},
   "outputs": [
    {
     "name": "stdout",
     "output_type": "stream",
     "text": [
      "We accept null hypothesis that theres no effect\n",
      "P value is  0.5146654429411317\n"
     ]
    }
   ],
   "source": [
    "# Does  gender have an effect on distance travelled, yellow cab\n",
    "a = df[(df.Gender=='Female')&(df.Company=='Yellow Cab')].groupby('Transactionid').Kmtravelled.mean()\n",
    "b = df[(df.Gender=='Male')&(df.Company=='Yellow Cab')].groupby('Transactionid').Kmtravelled.mean()\n",
    "\n",
    "\n",
    "_, p_value = stats.ttest_ind(a.values,b=b.values,equal_var=True)\n",
    "if(p_value<0.05):\n",
    "    print('We accept alternate hypothesis that theres an effect')\n",
    "else:\n",
    "    print('We accept null hypothesis that theres no effect')\n",
    "    \n",
    "print('P value is ', p_value)"
   ]
  },
  {
   "cell_type": "code",
   "execution_count": 60,
   "id": "df9976f6",
   "metadata": {},
   "outputs": [
    {
     "name": "stdout",
     "output_type": "stream",
     "text": [
      "We accept null hypothesis that theres no effect\n",
      "P value is  0.6164626165258722\n"
     ]
    }
   ],
   "source": [
    "# Does gender have an effect on distance travelled , pink cab\n",
    "a = df[(df.Gender=='Female')&(df.Company=='Pink Cab')].groupby('Transactionid').Kmtravelled.mean()\n",
    "b = df[(df.Gender=='Male')&(df.Company=='Pink Cab')].groupby('Transactionid').Kmtravelled.mean()\n",
    "\n",
    "\n",
    "_, p_value = stats.ttest_ind(a.values,b=b.values,equal_var=True)\n",
    "if(p_value<0.05):\n",
    "    print('We accept alternate hypothesis that theres an effect')\n",
    "else:\n",
    "    print('We accept null hypothesis that theres no effect')\n",
    "    \n",
    "print('P value is ', p_value)"
   ]
  },
  {
   "cell_type": "code",
   "execution_count": 61,
   "id": "e116add8",
   "metadata": {},
   "outputs": [
    {
     "name": "stdout",
     "output_type": "stream",
     "text": [
      "We accept null hypothesis that theres no effect\n",
      "P value is  0.08738489267415496\n"
     ]
    }
   ],
   "source": [
    "#does age affect company preference,Yellow cab\n",
    "a = df[(df.Gender=='Female')&(df.Company=='Yellow Cab')].groupby('Transactionid').Age.mean()\n",
    "b = df[(df.Gender=='Male')&(df.Company=='Yellow Cab')].groupby('Transactionid').Age.mean()\n",
    "_, p_value = stats.ttest_ind(a.values,b=b.values,equal_var=True)\n",
    "if(p_value<0.05):\n",
    "    print('We accept alternate hypothesis that theres an effect')\n",
    "else:\n",
    "    print('We accept null hypothesis that theres no effect')\n",
    "    \n",
    "print('P value is ', p_value)"
   ]
  },
  {
   "cell_type": "code",
   "execution_count": 62,
   "id": "3f0cdd5b",
   "metadata": {},
   "outputs": [
    {
     "name": "stdout",
     "output_type": "stream",
     "text": [
      "We accept null hypothesis that theres no effect\n",
      "P value is  0.2872878897358956\n"
     ]
    }
   ],
   "source": [
    "a = df[(df.Gender=='Female')&(df.Company=='Pink Cab')].groupby('Transactionid').Age.mean()\n",
    "b = df[(df.Gender=='Male')&(df.Company=='Pink Cab')].groupby('Transactionid').Age.mean()\n",
    "_, p_value = stats.ttest_ind(a.values,b=b.values,equal_var=True)\n",
    "if(p_value<0.05):\n",
    "    print('We accept alternate hypothesis that theres an effect')\n",
    "else:\n",
    "    print('We accept null hypothesis that theres no effect')\n",
    "    \n",
    "print('P value is ', p_value)"
   ]
  },
  {
   "cell_type": "code",
   "execution_count": 63,
   "id": "f4cc4613",
   "metadata": {},
   "outputs": [
    {
     "name": "stdout",
     "output_type": "stream",
     "text": [
      "We accept null hypothesis that theres no effect\n",
      "P value is  0.6097416516367322\n"
     ]
    }
   ],
   "source": [
    "a = df[(df.Gender=='Female')&(df.Company=='Pink Cab')].groupby('Transactionid').Income.mean()\n",
    "b = df[(df.Gender=='Male')&(df.Company=='Pink Cab')].groupby('Transactionid').Income.mean()\n",
    "_, p_value = stats.ttest_ind(a.values,b=b.values,equal_var=True)\n",
    "if(p_value<0.05):\n",
    "    print('We accept alternate hypothesis that theres an effect')\n",
    "else:\n",
    "    print('We accept null hypothesis that theres no effect')\n",
    "    \n",
    "print('P value is ', p_value)"
   ]
  },
  {
   "cell_type": "code",
   "execution_count": 64,
   "id": "150d318e",
   "metadata": {},
   "outputs": [
    {
     "name": "stdout",
     "output_type": "stream",
     "text": [
      "We accept null hypothesis that theres no effect\n",
      "P value is  0.6991469526319543\n"
     ]
    }
   ],
   "source": [
    "a = df[(df.Gender=='Female')&(df.Company=='Yellow Cab')].groupby('Transactionid').Income.mean()\n",
    "b = df[(df.Gender=='Male')&(df.Company=='Yellow Cab')].groupby('Transactionid').Income.mean()\n",
    "_, p_value = stats.ttest_ind(a.values,b=b.values,equal_var=True)\n",
    "if(p_value<0.05):\n",
    "    print('We accept alternate hypothesis that theres an effect')\n",
    "else:\n",
    "    print('We accept null hypothesis that theres no effect')\n",
    "    \n",
    "print('P value is ', p_value)"
   ]
  },
  {
   "cell_type": "code",
   "execution_count": 65,
   "id": "37944da6",
   "metadata": {},
   "outputs": [],
   "source": [
    "#from this analysis we can see:\n",
    "#Yellow cab has maintained its dominance on the market through the years\n",
    "#Margins are affected by gender in Yellow cab this is due to difference in price charged between the gender.\n",
    "#There is potential for pink cab company to grow."
   ]
  },
  {
   "cell_type": "code",
   "execution_count": null,
   "id": "a644f84e",
   "metadata": {},
   "outputs": [],
   "source": []
  }
 ],
 "metadata": {
  "kernelspec": {
   "display_name": "Python 3",
   "language": "python",
   "name": "python3"
  },
  "language_info": {
   "codemirror_mode": {
    "name": "ipython",
    "version": 3
   },
   "file_extension": ".py",
   "mimetype": "text/x-python",
   "name": "python",
   "nbconvert_exporter": "python",
   "pygments_lexer": "ipython3",
   "version": "3.8.7"
  }
 },
 "nbformat": 4,
 "nbformat_minor": 5
}
